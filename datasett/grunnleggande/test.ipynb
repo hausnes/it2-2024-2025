{
 "cells": [
  {
   "cell_type": "markdown",
   "metadata": {},
   "source": [
    "# Kodeforklaring\n",
    "\n",
    "Dette er ein forklaring til kode, og støttar Markdown-formatet. Her kan du ikkje køyre kode.\n",
    "\n",
    "## Kode\n",
    "\n",
    "```python\n",
    "def is_palindrome(s):\n",
    "    return s == s[::-1]\n",
    "```"
   ]
  },
  {
   "cell_type": "code",
   "execution_count": 6,
   "metadata": {},
   "outputs": [
    {
     "name": "stdout",
     "output_type": "stream",
     "text": [
      "False\n"
     ]
    }
   ],
   "source": [
    "# Dette er ei kodeblokk, og her kan du køyre koden din.\n",
    "def is_palindrome(s):\n",
    "    return s == s[::-1]\n",
    "\n",
    "setning = \"test\"\n",
    "\n",
    "print(is_palindrome(setning))"
   ]
  },
  {
   "cell_type": "code",
   "execution_count": 7,
   "metadata": {},
   "outputs": [
    {
     "data": {
      "text/plain": [
       "True"
      ]
     },
     "execution_count": 7,
     "metadata": {},
     "output_type": "execute_result"
    }
   ],
   "source": [
    "# Du har tilgang på kode frå tidlegare kodeblokker.\n",
    "setning = \"abba\"\n",
    "is_palindrome(setning)"
   ]
  }
 ],
 "metadata": {
  "kernelspec": {
   "display_name": "Python 3",
   "language": "python",
   "name": "python3"
  },
  "language_info": {
   "codemirror_mode": {
    "name": "ipython",
    "version": 3
   },
   "file_extension": ".py",
   "mimetype": "text/x-python",
   "name": "python",
   "nbconvert_exporter": "python",
   "pygments_lexer": "ipython3",
   "version": "3.13.0"
  }
 },
 "nbformat": 4,
 "nbformat_minor": 2
}
