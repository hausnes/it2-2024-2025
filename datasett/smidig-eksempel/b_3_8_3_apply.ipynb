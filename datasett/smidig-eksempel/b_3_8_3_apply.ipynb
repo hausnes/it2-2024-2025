{
 "cells": [
  {
   "cell_type": "code",
   "execution_count": 2,
   "metadata": {},
   "outputs": [
    {
     "data": {
      "text/html": [
       "<div>\n",
       "<style scoped>\n",
       "    .dataframe tbody tr th:only-of-type {\n",
       "        vertical-align: middle;\n",
       "    }\n",
       "\n",
       "    .dataframe tbody tr th {\n",
       "        vertical-align: top;\n",
       "    }\n",
       "\n",
       "    .dataframe thead th {\n",
       "        text-align: right;\n",
       "    }\n",
       "</style>\n",
       "<table border=\"1\" class=\"dataframe\">\n",
       "  <thead>\n",
       "    <tr style=\"text-align: right;\">\n",
       "      <th></th>\n",
       "      <th>Lengde</th>\n",
       "      <th>Lengde_m</th>\n",
       "    </tr>\n",
       "  </thead>\n",
       "  <tbody>\n",
       "    <tr>\n",
       "      <th>0</th>\n",
       "      <td>10 cm</td>\n",
       "      <td>0.1</td>\n",
       "    </tr>\n",
       "    <tr>\n",
       "      <th>1</th>\n",
       "      <td>2 m</td>\n",
       "      <td>2.0</td>\n",
       "    </tr>\n",
       "    <tr>\n",
       "      <th>2</th>\n",
       "      <td>15 dm</td>\n",
       "      <td>1.5</td>\n",
       "    </tr>\n",
       "  </tbody>\n",
       "</table>\n",
       "</div>"
      ],
      "text/plain": [
       "  Lengde  Lengde_m\n",
       "0  10 cm       0.1\n",
       "1    2 m       2.0\n",
       "2  15 dm       1.5"
      ]
     },
     "metadata": {},
     "output_type": "display_data"
    },
    {
     "name": "stdout",
     "output_type": "stream",
     "text": [
      "Summen av lengdene er 3.6 meter.\n"
     ]
    }
   ],
   "source": [
    "import pandas as pd\n",
    "data = {'Lengde': ['10 cm', '2 m',  '15 dm']}\n",
    "df = pd.DataFrame(data)\n",
    "\n",
    "def gjør_om_til_meter(value):\n",
    "    # Fjern mellomrom og skille mellom tall og enhet\n",
    "    verdi, enhet = value.split()\n",
    "    # Konverter numerisk del til flyttall\n",
    "    verdi = float(verdi)\n",
    "    # Konverter basert på måleenhet\n",
    "    if enhet == 'm':\n",
    "        return verdi\n",
    "    elif enhet == 'dm':\n",
    "        return verdi / 10\n",
    "    elif enhet == 'cm':\n",
    "        return verdi / 100\n",
    "        # Hvis enhet ikke er støttet, returner None\n",
    "    else:\n",
    "        return None\n",
    "\n",
    "# Bruk funksjonen med apply\n",
    "df['Lengde_m'] = df['Lengde'].apply(gjør_om_til_meter)\n",
    "display(df)\n",
    "print(f'Summen av lengdene er {df[\"Lengde_m\"].sum()} meter.')"
   ]
  },
  {
   "cell_type": "markdown",
   "metadata": {},
   "source": [
    "Smidig IT-2 © TIP AS, 2024"
   ]
  }
 ],
 "metadata": {
  "kernelspec": {
   "display_name": "Python 3",
   "language": "python",
   "name": "python3"
  },
  "language_info": {
   "codemirror_mode": {
    "name": "ipython",
    "version": 3
   },
   "file_extension": ".py",
   "mimetype": "text/x-python",
   "name": "python",
   "nbconvert_exporter": "python",
   "pygments_lexer": "ipython3",
   "version": "3.11.4"
  }
 },
 "nbformat": 4,
 "nbformat_minor": 2
}
