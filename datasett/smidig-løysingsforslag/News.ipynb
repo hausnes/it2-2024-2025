{
 "cells": [
  {
   "cell_type": "code",
   "execution_count": 10,
   "metadata": {},
   "outputs": [
    {
     "name": "stdout",
     "output_type": "stream",
     "text": [
      "authors\n",
      "                                                                                                       37418\n",
      "Lee Moran                                                                                               2954\n",
      "Ron Dicker                                                                                              2219\n",
      "Ed Mazza                                                                                                1590\n",
      "Mary Papenfuss                                                                                          1566\n",
      "                                                                                                       ...  \n",
      "Norman E. Rosenthal, M.D., Contributor\\nClinical Professor of Psychiatry, Georgetown Medical School        1\n",
      "Emanuel Ungaro, Contributor\\nCouturier                                                                     1\n",
      "Marina Fang and Candice Frederick                                                                          1\n",
      "Eric Tucker and Mary Clare Jalonick, AP                                                                    1\n",
      "GRAHAM DUNBAR, AP                                                                                          1\n",
      "Name: count, Length: 29169, dtype: int64\n"
     ]
    }
   ],
   "source": [
    "import pandas\n",
    "\n",
    "# Last inn fila med nyheiter.\n",
    "df = pandas.read_json(\"News_Category_Dataset_v3.json\", lines=True)\n",
    "\n",
    "# Gruppér etter forfatter og tell antall artikler\n",
    "artikkel_teller = df['authors'].value_counts()\n",
    "\n",
    "# Skriv ut resultatet\n",
    "print(artikkel_teller)"
   ]
  }
 ],
 "metadata": {
  "kernelspec": {
   "display_name": "Python 3",
   "language": "python",
   "name": "python3"
  },
  "language_info": {
   "codemirror_mode": {
    "name": "ipython",
    "version": 3
   },
   "file_extension": ".py",
   "mimetype": "text/x-python",
   "name": "python",
   "nbconvert_exporter": "python",
   "pygments_lexer": "ipython3",
   "version": "3.13.0"
  }
 },
 "nbformat": 4,
 "nbformat_minor": 2
}
