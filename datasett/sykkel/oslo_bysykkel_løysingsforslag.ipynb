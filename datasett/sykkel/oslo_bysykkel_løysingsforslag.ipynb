{
 "cells": [
  {
   "cell_type": "code",
   "execution_count": 1,
   "metadata": {},
   "outputs": [
    {
     "name": "stdout",
     "output_type": "stream",
     "text": [
      "De tre mest brukte startlokasjonene:\n",
      "Alexander Kiellands Plass: 2108 turer\n",
      "Ringnes Park: 1928 turer\n",
      "Aker Brygge: 1871 turer\n",
      "\n",
      "De tre minst brukte startlokasjonene:\n",
      "Tordenskiolds gate: 53 turer\n",
      "Kværnerveien: 59 turer\n",
      "Gaustad T-bane: 62 turer\n"
     ]
    }
   ],
   "source": [
    "'''\n",
    "Oppgave 1\n",
    "Lag et program som presenterer de tre mest brukte startlokasjonene og de tre minst \n",
    "brukte startlokasjonene. Presentasjonen skal også vise antall turer fra disse startlokasjonene.\n",
    "Del 1 bruker Pandas.\n",
    "Del 2 bruker Python-dictionary.\n",
    "'''\n",
    "\n",
    "import pandas as pd\n",
    "\n",
    "# Last inn dataene fra CSV-filen\n",
    "df = pd.read_csv('05.csv')\n",
    "\n",
    "# Grupper dataene etter startlokasjon og tell antall turer for hver startlokasjon\n",
    "location_counts = df['start_station_name'].value_counts()\n",
    "\n",
    "# Få de tre mest brukte startlokasjonene\n",
    "top_three = location_counts.nlargest(3)\n",
    "\n",
    "# Få de tre minst brukte startlokasjonene\n",
    "bottom_three = location_counts.nsmallest(3)\n",
    "\n",
    "# Presenter resultatene\n",
    "print(\"De tre mest brukte startlokasjonene:\")\n",
    "for location, count in top_three.items():\n",
    "    print(f\"{location}: {count} turer\")\n",
    "\n",
    "print(\"\\nDe tre minst brukte startlokasjonene:\")\n",
    "for location, count in bottom_three.items():\n",
    "    print(f\"{location}: {count} turer\")"
   ]
  },
  {
   "cell_type": "code",
   "execution_count": 1,
   "metadata": {},
   "outputs": [
    {
     "name": "stdout",
     "output_type": "stream",
     "text": [
      "De tre mest brukte startlokasjonene:\n",
      "Alexander Kiellands Plass: 2108 turer\n",
      "Ringnes Park: 1928 turer\n",
      "Aker Brygge: 1871 turer\n",
      "\n",
      "De tre minst brukte startlokasjonene:\n",
      "Tordenskiolds gate: 53 turer\n",
      "Kværnerveien: 59 turer\n",
      "Gaustad T-bane: 62 turer\n"
     ]
    }
   ],
   "source": [
    "import csv\n",
    "\n",
    "# Les dataene fra CSV-filen\n",
    "with open('05.csv', 'r', encoding=\"utf-8\") as file:\n",
    "    reader = csv.reader(file)\n",
    "    next(reader)  # Skip the header row\n",
    "    data = list(reader)\n",
    "\n",
    "# Hent startlokasjonene\n",
    "# Opprett en tom liste for startlokasjonene\n",
    "start_locations = []\n",
    "\n",
    "# Gå gjennom hver rad i data\n",
    "for row in data:\n",
    "    # Hent ut startlokasjonen, som er det femte elementet i raden\n",
    "    start_location = row[4]\n",
    "    \n",
    "    # Legg til startlokasjonen i listen\n",
    "    start_locations.append(start_location)    \n",
    "\n",
    "# Alternativt kan vi bruke list comprehension for å gjøre det samme\n",
    "# start_locations = [row[4] for row in data] \n",
    "\n",
    "# Tell antall turer for hver startlokasjon\n",
    "location_counts = {}\n",
    "for location in start_locations:\n",
    "    if location in location_counts:\n",
    "        location_counts[location] += 1\n",
    "    else:\n",
    "        location_counts[location] = 1\n",
    "\n",
    "# Sorter ordboken etter antall turer\n",
    "sorted_locations = sorted(location_counts.items(), key=lambda item: item[1]) # item[1] er antall turer i ordboken\n",
    "\n",
    "# Få de tre mest brukte startlokasjonene\n",
    "top_three = sorted_locations[-3:]\n",
    "\n",
    "# Få de tre minst brukte startlokasjonene\n",
    "bottom_three = sorted_locations[:3]\n",
    "\n",
    "# Presenter resultatene\n",
    "print(\"De tre mest brukte startlokasjonene:\")\n",
    "for location, count in reversed(top_three):\n",
    "    print(f\"{location}: {count} turer\")\n",
    "\n",
    "print(\"\\nDe tre minst brukte startlokasjonene:\")\n",
    "for location, count in bottom_three:\n",
    "    print(f\"{location}: {count} turer\")"
   ]
  },
  {
   "cell_type": "code",
   "execution_count": 3,
   "metadata": {},
   "outputs": [
    {
     "data": {
      "image/png": "[encoded data removed]",
      "text/plain": [
       "<Figure size 640x480 with 1 Axes>"
      ]
     },
     "metadata": {},
     "output_type": "display_data"
    }
   ],
   "source": [
    "'''\n",
    "Oppgave 2\n",
    "Utvid programmet slik at det også presenter et passende diagram som viser totalt antall turer \n",
    "fra alle startlokasjoner til sammen, per ukedag.\n",
    "'''\n",
    "\n",
    "import csv\n",
    "import matplotlib.pyplot as plt\n",
    "from datetime import datetime\n",
    "\n",
    "# Les dataene fra CSV-filen\n",
    "with open('05.csv', 'r') as file:\n",
    "    reader = csv.reader(file)\n",
    "    next(reader)  # Hopp over overskriftsraden\n",
    "    data = list(reader)\n",
    "\n",
    "# Hent startdatoene\n",
    "# Alt. 1 - med list comprehension\n",
    "#start_dates = [row[0].split(' ')[0] for row in data]  # stated_at er rad 0. Vi splitter på mellomrom og tar kun datoen\n",
    "# Alt. 2 - på ein meir lettlest måte\n",
    "start_dates = []\n",
    "for row in data:\n",
    "    # Splittar der det er mellomrom (fjernar siste del)\n",
    "    split_row = row[0].split(' ')\n",
    "    # Datoen er den første delen av split_row (sjølve datoen ligg i rad 0, timer, minutt, sek etc. ligg i 1)\n",
    "    date = split_row[0]\n",
    "    # Legg deretter til i start_dates..\n",
    "    start_dates.append(date)\n",
    "\n",
    "# Tell antall turer for hver ukedag\n",
    "weekday_counts = [0, 0, 0, 0, 0, 0, 0]  # Mandag, tirsdag, onsdag, ...\n",
    "for date in start_dates:\n",
    "    weekday = datetime.strptime(date, \"%Y-%m-%d\").weekday() # strptime er en metode i datetime modulen som tolker en streng som en dato. weekday returnerer ukedagen som et heltall (mandag er 0 og søndag er 6).\n",
    "    weekday_counts[weekday] += 1\n",
    "\n",
    "# Plot antall turer per ukedag\n",
    "plt.bar(range(7), weekday_counts)\n",
    "plt.xticks(range(7), ['Mandag', 'Tirsdag', 'Onsdag', 'Torsdag', 'Fredag', 'Lørdag', 'Søndag'])\n",
    "plt.ylabel('Antall turer')\n",
    "plt.title('Totale ant. turer fra alle startlokasjoner per ukedag')\n",
    "plt.show()"
   ]
  }
 ],
 "metadata": {
  "kernelspec": {
   "display_name": "Python 3",
   "language": "python",
   "name": "python3"
  },
  "language_info": {
   "codemirror_mode": {
    "name": "ipython",
    "version": 3
   },
   "file_extension": ".py",
   "mimetype": "text/x-python",
   "name": "python",
   "nbconvert_exporter": "python",
   "pygments_lexer": "ipython3",
   "version": "3.13.0"
  }
 },
 "nbformat": 4,
 "nbformat_minor": 2
}
